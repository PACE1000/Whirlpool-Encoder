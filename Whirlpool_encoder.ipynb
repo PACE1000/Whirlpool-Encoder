{
  "nbformat": 4,
  "nbformat_minor": 0,
  "metadata": {
    "colab": {
      "provenance": []
    },
    "kernelspec": {
      "name": "python3",
      "display_name": "Python 3"
    },
    "language_info": {
      "name": "python"
    }
  },
  "cells": [
    {
      "cell_type": "code",
      "source": [
        "import hashlib\n",
        "\n",
        "def whirlpool_encode(message):\n",
        "    # Membuat Whirlpool hash object\n",
        "    hasher = hashlib.new('whirlpool')\n",
        "    \n",
        "    #Mengkonversi pesan kedalam bentuk bytes, dan mengupdate hash object \n",
        "    hasher.update(message.encode('utf-8'))\n",
        "    \n",
        "    #Mendapatkan representasi hexadecimal dari hash tersebut \n",
        "    encoded_message = hasher.hexdigest()\n",
        "    \n",
        "    return encoded_message\n",
        "\n",
        "# Penggunaan\n",
        "message = input(str(\"Masukkan Pesan yang ingin di Enkripsi: \"))\n",
        "encoded_message = whirlpool_encode(message)\n",
        "print(\"Encoded message:\", encoded_message)"
      ],
      "metadata": {
        "colab": {
          "base_uri": "https://localhost:8080/"
        },
        "id": "1G7DeU-J96cS",
        "outputId": "75eeffb7-8dc9-4c4a-deb7-376a81f4e7d1"
      },
      "execution_count": null,
      "outputs": [
        {
          "output_type": "stream",
          "name": "stdout",
          "text": [
            "Masukkan Pesan yang ingin di Enkripsi: 12345678\n",
            "Encoded message: 8c9ec9f0ac6ad6fea526dad1171e7507262d0ea9541a2e6ddcc5767a239d1da9edea948dbde5494bb7fb27df24d6ac5dfc3ad47cc52af76a7e9146c5125c6cf5\n"
          ]
        }
      ]
    }
  ]
}