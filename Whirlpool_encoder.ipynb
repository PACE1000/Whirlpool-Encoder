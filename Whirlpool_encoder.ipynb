{
  "nbformat": 4,
  "nbformat_minor": 0,
  "metadata": {
    "colab": {
      "provenance": [],
      "authorship_tag": "ABX9TyNil+9oZLucpcweDIyKhjzN",
      "include_colab_link": true
    },
    "kernelspec": {
      "name": "python3",
      "display_name": "Python 3"
    },
    "language_info": {
      "name": "python"
    }
  },
  "cells": [
    {
      "cell_type": "markdown",
      "metadata": {
        "id": "view-in-github",
        "colab_type": "text"
      },
      "source": [
        "<a href=\"https://colab.research.google.com/github/PACE1000/Whirlpool-Encoder/blob/main/Whirlpool_encoder.ipynb\" target=\"_parent\"><img src=\"https://colab.research.google.com/assets/colab-badge.svg\" alt=\"Open In Colab\"/></a>"
      ]
    },
    {
      "cell_type": "code",
      "source": [
        "import hashlib\n",
        "\n",
        "def whirlpool_encode(message):\n",
        "\n",
        "  \"\"\"Parameter yang digunakan:\n",
        "   message = Pesan yang ingin dienkripsikan menggunakan metode Whirlpool\n",
        "   \n",
        "   Cara Penggunaan code:\n",
        "   message = 'brama' --> memvariabelkan sebuah pesan\n",
        "   encoded_message = whirlpool_encode(message) --> menggunakan fungsi \n",
        "   print(encoded_message) --> mengeluarkan output pesan yang telah dienkripsi\n",
        "   \"\"\"\n",
        "  # Membuat Whirlpool hash object\n",
        "  hasher = hashlib.new('whirlpool')\n",
        "    \n",
        "  #Mengkonversi pesan kedalam bentuk bytes, dan mengupdate hash object \n",
        "  hasher.update(message.encode('utf-8'))\n",
        "    \n",
        "  #Mendapatkan representasi hexadecimal dari hash tersebut \n",
        "  encoded_message = hasher.hexdigest()\n",
        "    \n",
        "  return encoded_message\n",
        "\n",
        "# Penggunaan\n",
        "message = input(str(\"Masukkan Pesan yang ingin di Enkripsi: \"))\n",
        "encoded_message = whirlpool_encode(message)\n",
        "print(\"=\"*35)\n",
        "print(\"Plain Text: \", message)\n",
        "print(\"Panjang Pesan: \", len(message))\n",
        "print(\"=\"*35)\n",
        "print(\"Encoded message:\", encoded_message )\n",
        "print(\"Panjang Enrkipsi: \", len(encoded_message))"
      ],
      "metadata": {
        "colab": {
          "base_uri": "https://localhost:8080/"
        },
        "id": "1G7DeU-J96cS",
        "outputId": "42c77ac9-59da-4fde-fe40-4b5b00149f48"
      },
      "execution_count": 8,
      "outputs": [
        {
          "output_type": "stream",
          "name": "stdout",
          "text": [
            "Masukkan Pesan yang ingin di Enkripsi: 546541\n",
            "===================================\n",
            "Plain Text:  546541\n",
            "Panjang Pesan:  6\n",
            "===================================\n",
            "Encoded message: 4631924a562bb0705b28be97bd5a16364d6a9d2f165322fd682c8f9a9907f8f0ca8ab7eb3529d2fbf90c1811277bc4333d3dfa6b2f05ea4d7dfbb1b2507df15a\n",
            "Panjang Enrkipsi:  128\n"
          ]
        }
      ]
    },
    {
      "cell_type": "code",
      "source": [
        "import hashlib\n",
        "\n",
        "def whirlpool_encode(message):\n",
        "    \"\"\"\n",
        "    Parameters:\n",
        "        message: Message to be encrypted using the Whirlpool method\n",
        "    Usage:\n",
        "        message = 'brama'  # Assign a message to a variable\n",
        "        encoded_message = whirlpool_encode(message)  # Use the function\n",
        "        print(encoded_message)  # Print the encrypted message\n",
        "    \"\"\"\n",
        "    # Create a Whirlpool hash object\n",
        "    hasher = hashlib.new('whirlpool')\n",
        "    \n",
        "    # Convert the message to bytes and update the hash object\n",
        "    hasher.update(message.encode('utf-8'))\n",
        "    \n",
        "    # Get the hash representation\n",
        "    encoded_message = hasher.digest()\n",
        "    \n",
        "    return encoded_message\n",
        "\n",
        "# Usage\n",
        "message = input(\"Enter the message to encrypt: \")\n",
        "encoded_message = whirlpool_encode(message)\n",
        "print(\"=\" * 35)\n",
        "print(\"Plain Text:\", message)\n",
        "print(\"Message Length:\", len(message))\n",
        "print(\"=\" * 35)\n",
        "print(\"Encoded Message:\", encoded_message)\n",
        "print(\"Encoding Length:\", len(encoded_message))"
      ],
      "metadata": {
        "colab": {
          "base_uri": "https://localhost:8080/"
        },
        "id": "eoZdCkZegYSm",
        "outputId": "243e16d9-434e-4efd-b89f-90516b9aa82a"
      },
      "execution_count": 14,
      "outputs": [
        {
          "output_type": "stream",
          "name": "stdout",
          "text": [
            "Enter the message to encrypt: 12345678\n",
            "===================================\n",
            "Plain Text: 12345678\n",
            "Message Length: 8\n",
            "===================================\n",
            "Encoded Message: b\"\\x8c\\x9e\\xc9\\xf0\\xacj\\xd6\\xfe\\xa5&\\xda\\xd1\\x17\\x1eu\\x07&-\\x0e\\xa9T\\x1a.m\\xdc\\xc5vz#\\x9d\\x1d\\xa9\\xed\\xea\\x94\\x8d\\xbd\\xe5IK\\xb7\\xfb'\\xdf$\\xd6\\xac]\\xfc:\\xd4|\\xc5*\\xf7j~\\x91F\\xc5\\x12\\\\l\\xf5\"\n",
            "Encoding Length: 64\n"
          ]
        }
      ]
    }
  ]
}