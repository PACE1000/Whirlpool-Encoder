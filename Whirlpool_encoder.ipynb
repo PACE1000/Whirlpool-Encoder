{
  "nbformat": 4,
  "nbformat_minor": 0,
  "metadata": {
    "colab": {
      "provenance": [],
      "authorship_tag": "ABX9TyN7WnM5jDCLFxarxYqM3ktX",
      "include_colab_link": true
    },
    "kernelspec": {
      "name": "python3",
      "display_name": "Python 3"
    },
    "language_info": {
      "name": "python"
    }
  },
  "cells": [
    {
      "cell_type": "markdown",
      "metadata": {
        "id": "view-in-github",
        "colab_type": "text"
      },
      "source": [
        "<a href=\"https://colab.research.google.com/github/PACE1000/Whirlpool-Encoder/blob/main/Whirlpool_encoder.ipynb\" target=\"_parent\"><img src=\"https://colab.research.google.com/assets/colab-badge.svg\" alt=\"Open In Colab\"/></a>"
      ]
    },
    {
      "cell_type": "code",
      "source": [
        "import hashlib\n",
        "\n",
        "def whirlpool_encode(message):\n",
        "    # Membuat Whirlpool hash object\n",
        "    hasher = hashlib.new('whirlpool')\n",
        "    \n",
        "    #Mengkonversi pesan kedalam bentuk bytes, dan mengupdate hash object \n",
        "    hasher.update(message.encode('utf-8'))\n",
        "    \n",
        "    #Mendapatkan representasi hexadecimal dari hash tersebut \n",
        "    encoded_message = hasher.hexdigest()\n",
        "    \n",
        "    return encoded_message\n",
        "\n",
        "# Penggunaan\n",
        "message = input(str(\"Masukkan Pesan yang ingin di Enkripsi: \"))\n",
        "encoded_message = whirlpool_encode(message)\n",
        "print(\"Plain Text: \", message)\n",
        "print(\"Panjang Pesan: \", len(message))\n",
        "print(\"=\"*35)\n",
        "print(\"Encoded message:\", encoded_message )\n",
        "print(\"Panjang Enrkipsi: \", len(encoded_message))"
      ],
      "metadata": {
        "colab": {
          "base_uri": "https://localhost:8080/"
        },
        "id": "1G7DeU-J96cS",
        "outputId": "a7f4aa4d-df30-41ed-f909-9aab615b6943"
      },
      "execution_count": 4,
      "outputs": [
        {
          "output_type": "stream",
          "name": "stdout",
          "text": [
            "Masukkan Pesan yang ingin di Enkripsi: sasuke uchiha\n",
            "Plain Text:  sasuke uchiha\n",
            "Panjang Pesan:  13\n",
            "===================================\n",
            "Encoded message: bb44bbefbeabaabea796c49f6b4028302dabfe11bfa845b499a1323bc5dcf4754af32003e6d0596f9e7fc8fbc67b37fb14b5793d0bd22a0b68bedd825d1a69b0\n",
            "Panjang Enrkipsi:  128\n"
          ]
        }
      ]
    },
    {
      "cell_type": "code",
      "source": [],
      "metadata": {
        "id": "Ng1g9V3GYhBA"
      },
      "execution_count": null,
      "outputs": []
    }
  ]
}